{
 "cells": [
  {
   "cell_type": "markdown",
   "metadata": {},
   "source": [
    "# <font color='#4C6FF3'>Regularized Regression</font>"
   ]
  },
  {
   "cell_type": "markdown",
   "metadata": {},
   "source": [
    "#### <font color='#FF8253'>Conclusion: Best models trained on non-normalized data</font>"
   ]
  },
  {
   "cell_type": "code",
   "execution_count": 1,
   "metadata": {
    "collapsed": true
   },
   "outputs": [],
   "source": [
    "# Suppress runtime warnings\n",
    "import warnings\n",
    "warnings.simplefilter(action = \"ignore\", category = RuntimeWarning)\n",
    "\n",
    "# Suppress all warnings\n",
    "import warnings\n",
    "warnings.filterwarnings(\"ignore\")"
   ]
  },
  {
   "cell_type": "code",
   "execution_count": 1,
   "metadata": {
    "collapsed": true
   },
   "outputs": [],
   "source": [
    "%matplotlib inline\n",
    "import numpy as np, pandas as pd \n",
    "import matplotlib.pyplot as plt\n",
    "import seaborn as sns\n",
    "import sqlalchemy\n",
    "from sqlalchemy import create_engine, MetaData, Table\n",
    "from sqlalchemy.sql import select\n",
    "from fbprophet import Prophet"
   ]
  },
  {
   "cell_type": "code",
   "execution_count": 2,
   "metadata": {
    "collapsed": true
   },
   "outputs": [],
   "source": [
    "db_uri = 'mysql+pymysql://<user_name>@<EC2 DNS>'                                 \n",
    "\n",
    "engine = create_engine(db_uri)                                                                                                                    \n",
    "meta = MetaData()                                                           \n",
    "meta.reflect(bind=engine)                                                   \n",
    "conn = engine.connect()"
   ]
  },
  {
   "cell_type": "code",
   "execution_count": 3,
   "metadata": {
    "collapsed": true
   },
   "outputs": [],
   "source": [
    "bpi  = pd.read_sql('''SELECT * FROM coindsk_bpi''', conn)     # Bitcoin Price Index\n",
    "mng  = pd.read_sql('''SELECT * FROM qdl_mining_data''', conn) # Quandl Mining Data\n",
    "qmkt = pd.read_sql('''SELECT * FROM qdl_mkt_data''', conn)    # Quandl Market Data"
   ]
  },
  {
   "cell_type": "code",
   "execution_count": 5,
   "metadata": {
    "collapsed": true
   },
   "outputs": [],
   "source": [
    "bpi.date            = pd.to_datetime(bpi.date)\n",
    "bpi.btc_usd_rate    = pd.to_numeric(bpi.btc_usd_rate)\n",
    "mng.tot_blkchn_size = pd.to_numeric(mng.tot_blkchn_size)\n",
    "mng.avg_blk_size    = pd.to_numeric(mng.avg_blk_size)\n",
    "mng.tot_output_vol  = pd.to_numeric(mng.tot_output_vol)\n",
    "mng.hash_rate_btc   = pd.to_numeric(mng.hash_rate_btc)\n",
    "mng.miners_rev      = pd.to_numeric(mng.miners_rev)\n",
    "mng.difficulty      = pd.to_numeric(mng.difficulty)\n",
    "mng.date            = pd.to_datetime(mng.date)\n",
    "\n",
    "qmkt.date                 = pd.to_datetime(qmkt.date)\n",
    "qmkt.tot_BTCs             = pd.to_numeric(qmkt.tot_BTCs)\n",
    "qmkt.btc_mkt_cap          = pd.to_numeric(qmkt.btc_mkt_cap)\n",
    "qmkt.tot_btc_addrs        = pd.to_numeric(qmkt.tot_btc_addrs)\n",
    "qmkt.btc_trans_vol        = pd.to_numeric(qmkt.btc_trans_vol)\n",
    "qmkt.btc_exch_trade_vol   = pd.to_numeric(qmkt.btc_exch_trade_vol)\n",
    "qmkt.btc_num_trans        = pd.to_numeric(qmkt.btc_num_trans)\n",
    "qmkt.btc_tot_trans        = pd.to_numeric(qmkt.btc_tot_trans)\n",
    "qmkt.trans_less_pop_addrs = pd.to_numeric(qmkt.trans_less_pop_addrs)\n",
    "qmkt.trans_per_blk        = pd.to_numeric(qmkt.trans_per_blk)\n",
    "qmkt.avg_trans_conf_time  = pd.to_numeric(qmkt.avg_trans_conf_time)\n",
    "qmkt.tot_trans_fees_btc   = pd.to_numeric(qmkt.tot_trans_fees_btc)\n",
    "qmkt.tot_trans_fees_usd   = pd.to_numeric(qmkt.tot_trans_fees_usd)\n",
    "qmkt.cost_per_trans       = pd.to_numeric(qmkt.cost_per_trans)\n",
    "qmkt.cost_as_perct_vol    = pd.to_numeric(qmkt.cost_as_perct_vol)"
   ]
  },
  {
   "cell_type": "code",
   "execution_count": 6,
   "metadata": {
    "collapsed": false
   },
   "outputs": [],
   "source": [
    "dfs = [bpi, mng, qmkt]\n",
    "df = reduce(lambda df1, df2: pd.merge(df1, df2, on='date'), dfs)"
   ]
  },
  {
   "cell_type": "code",
   "execution_count": 8,
   "metadata": {
    "collapsed": true
   },
   "outputs": [],
   "source": [
    "y = df.btc_usd_rate\n",
    "\n",
    "X = df[[col for col in list(df.columns) if not col == 'residuals'\\\n",
    "                                        and not col == 'btc_usd_rate'\\\n",
    "                                        and not col == 'date'\\\n",
    "                                        and not col == 'timestp']]"
   ]
  },
  {
   "cell_type": "code",
   "execution_count": 11,
   "metadata": {
    "collapsed": true
   },
   "outputs": [],
   "source": [
    "# Split data into train and test sets\n",
    "train_size = int(len(X) * 0.66)\n",
    "\n",
    "y_train, y_test = y[1:train_size], y[train_size:]\n",
    "X_train, X_test = X[1:train_size], X[train_size:]"
   ]
  },
  {
   "cell_type": "markdown",
   "metadata": {},
   "source": [
    "### <font color='#52B26C'> *Without* Normalization</font>"
   ]
  },
  {
   "cell_type": "code",
   "execution_count": 13,
   "metadata": {
    "collapsed": true
   },
   "outputs": [],
   "source": [
    "from sklearn.ensemble import ExtraTreesRegressor, RandomForestRegressor\n",
    "from sklearn.neighbors import KNeighborsRegressor\n",
    "from sklearn.linear_model import LinearRegression\n",
    "from sklearn.linear_model import Ridge, RidgeCV, Lasso, LassoCV"
   ]
  },
  {
   "cell_type": "code",
   "execution_count": 32,
   "metadata": {
    "collapsed": false
   },
   "outputs": [],
   "source": [
    "# Fit estimators\n",
    "ESTIMATORS = {'LinReg' : LinearRegression(),\n",
    "              'Ridge'  : Ridge(),\n",
    "              'Lasso'  : Lasso(),\n",
    "              'LassoCV': LassoCV(), \n",
    "              'RndFrst': RandomForestRegressor(n_estimators=150, min_samples_split=2)}\n",
    "\n",
    "predictions    = dict()\n",
    "r2_scores      = dict()\n",
    "\n",
    "for name, estimator in ESTIMATORS.items():\n",
    "    estimator.fit(X_train, y_train)\n",
    "    predictions[name]    = estimator.predict(X_test)\n",
    "    r2_scores[name]      = estimator.score(X_test, y_test)"
   ]
  },
  {
   "cell_type": "code",
   "execution_count": 40,
   "metadata": {
    "collapsed": false
   },
   "outputs": [
    {
     "data": {
      "text/html": [
       "<div>\n",
       "<table border=\"1\" class=\"dataframe\">\n",
       "  <thead>\n",
       "    <tr style=\"text-align: right;\">\n",
       "      <th></th>\n",
       "      <th>Model</th>\n",
       "      <th>R-Squared</th>\n",
       "    </tr>\n",
       "  </thead>\n",
       "  <tbody>\n",
       "    <tr>\n",
       "      <th>0</th>\n",
       "      <td>LinReg</td>\n",
       "      <td>0.803401</td>\n",
       "    </tr>\n",
       "    <tr>\n",
       "      <th>1</th>\n",
       "      <td>Ridge</td>\n",
       "      <td>0.786727</td>\n",
       "    </tr>\n",
       "    <tr>\n",
       "      <th>2</th>\n",
       "      <td>LassoCV</td>\n",
       "      <td>0.963718</td>\n",
       "    </tr>\n",
       "    <tr>\n",
       "      <th>3</th>\n",
       "      <td>RndFrst</td>\n",
       "      <td>0.756020</td>\n",
       "    </tr>\n",
       "    <tr>\n",
       "      <th>4</th>\n",
       "      <td>Lasso</td>\n",
       "      <td>0.814685</td>\n",
       "    </tr>\n",
       "  </tbody>\n",
       "</table>\n",
       "</div>"
      ],
      "text/plain": [
       "     Model  R-Squared\n",
       "0   LinReg   0.803401\n",
       "1    Ridge   0.786727\n",
       "2  LassoCV   0.963718\n",
       "3  RndFrst   0.756020\n",
       "4    Lasso   0.814685"
      ]
     },
     "execution_count": 40,
     "metadata": {},
     "output_type": "execute_result"
    }
   ],
   "source": [
    "r2s = pd.DataFrame(r2_scores.items(), columns=['Model', 'R-Squared'])\n",
    "r2s"
   ]
  },
  {
   "cell_type": "code",
   "execution_count": 57,
   "metadata": {
    "collapsed": false
   },
   "outputs": [
    {
     "data": {
      "image/png": "[encoded data removed]",
      "text/plain": [
       "<matplotlib.figure.Figure at 0x7f112375e7d0>"
      ]
     },
     "metadata": {},
     "output_type": "display_data"
    }
   ],
   "source": [
    "plt.figure(figsize=(14, 7))\n",
    "xlocations = np.array(range(len(r2_scores))) + 0.5\n",
    "y_pos = np.arange(len(r2_scores))\n",
    "plt.bar(xlocations, r2s['R-Squared'].order(), width=0.9, color='#5EC690')\n",
    "# plt.xticks(y_pos, r2s['Model'])\n",
    "plt.xticks(y_pos, ['RandomForest', 'Ridge', 'OLSR', 'Lasso', 'LassoCV'])\n",
    "# plt.ylabel('R-Squared Scores')\n",
    "plt.title('Regression Models\\nR-Squared Scores');"
   ]
  },
  {
   "cell_type": "markdown",
   "metadata": {},
   "source": [
    "### <font color='#52B26C'> *With* Normalization</font>"
   ]
  },
  {
   "cell_type": "markdown",
   "metadata": {},
   "source": [
    "#### 1. Subtract the mean and divide by the standard deviation"
   ]
  },
  {
   "cell_type": "code",
   "execution_count": 11,
   "metadata": {
    "collapsed": false
   },
   "outputs": [
    {
     "data": {
      "text/html": [
       "<div>\n",
       "<table border=\"1\" class=\"dataframe\">\n",
       "  <thead>\n",
       "    <tr style=\"text-align: right;\">\n",
       "      <th></th>\n",
       "      <th>googl_srchs</th>\n",
       "      <th>tot_blkchn_size</th>\n",
       "      <th>avg_blk_size</th>\n",
       "      <th>tot_output_vol</th>\n",
       "      <th>hash_rate_btc</th>\n",
       "      <th>miners_rev</th>\n",
       "      <th>difficulty</th>\n",
       "      <th>tot_BTCs</th>\n",
       "      <th>btc_mkt_cap</th>\n",
       "      <th>tot_btc_addrs</th>\n",
       "      <th>...</th>\n",
       "      <th>btc_exch_trade_vol</th>\n",
       "      <th>btc_num_trans</th>\n",
       "      <th>btc_tot_trans</th>\n",
       "      <th>trans_less_pop_addrs</th>\n",
       "      <th>trans_per_blk</th>\n",
       "      <th>avg_trans_conf_time</th>\n",
       "      <th>tot_trans_fees_btc</th>\n",
       "      <th>tot_trans_fees_usd</th>\n",
       "      <th>cost_per_trans</th>\n",
       "      <th>cost_as_perct_vol</th>\n",
       "    </tr>\n",
       "  </thead>\n",
       "  <tbody>\n",
       "    <tr>\n",
       "      <th>0</th>\n",
       "      <td>-1.253728</td>\n",
       "      <td>-1.161775</td>\n",
       "      <td>-1.123040</td>\n",
       "      <td>-0.152435</td>\n",
       "      <td>-0.771314</td>\n",
       "      <td>-1.619669</td>\n",
       "      <td>-0.770154</td>\n",
       "      <td>-1.830274</td>\n",
       "      <td>-1.435246</td>\n",
       "      <td>-1.377759</td>\n",
       "      <td>...</td>\n",
       "      <td>-0.689841</td>\n",
       "      <td>-1.076046</td>\n",
       "      <td>-1.204892</td>\n",
       "      <td>-1.204054</td>\n",
       "      <td>-0.805119</td>\n",
       "      <td>0.077467</td>\n",
       "      <td>-0.113350</td>\n",
       "      <td>-0.516013</td>\n",
       "      <td>-0.986018</td>\n",
       "      <td>0.080503</td>\n",
       "    </tr>\n",
       "    <tr>\n",
       "      <th>1</th>\n",
       "      <td>-1.253728</td>\n",
       "      <td>-1.157365</td>\n",
       "      <td>-0.934056</td>\n",
       "      <td>-0.197332</td>\n",
       "      <td>-0.771316</td>\n",
       "      <td>-1.624800</td>\n",
       "      <td>-0.770152</td>\n",
       "      <td>-1.816243</td>\n",
       "      <td>-1.433217</td>\n",
       "      <td>-1.423840</td>\n",
       "      <td>...</td>\n",
       "      <td>-0.685996</td>\n",
       "      <td>-1.036489</td>\n",
       "      <td>-1.199061</td>\n",
       "      <td>-1.292255</td>\n",
       "      <td>-0.791944</td>\n",
       "      <td>1.277844</td>\n",
       "      <td>-0.095358</td>\n",
       "      <td>-0.515142</td>\n",
       "      <td>-0.994723</td>\n",
       "      <td>-0.175244</td>\n",
       "    </tr>\n",
       "    <tr>\n",
       "      <th>2</th>\n",
       "      <td>-1.253728</td>\n",
       "      <td>-1.152722</td>\n",
       "      <td>-1.004387</td>\n",
       "      <td>-0.110223</td>\n",
       "      <td>-0.771314</td>\n",
       "      <td>-1.614470</td>\n",
       "      <td>-0.770152</td>\n",
       "      <td>-1.802625</td>\n",
       "      <td>-1.426282</td>\n",
       "      <td>-1.422791</td>\n",
       "      <td>...</td>\n",
       "      <td>-0.658187</td>\n",
       "      <td>-1.069357</td>\n",
       "      <td>-1.192978</td>\n",
       "      <td>-1.243804</td>\n",
       "      <td>-0.874755</td>\n",
       "      <td>0.484612</td>\n",
       "      <td>-0.224963</td>\n",
       "      <td>-0.514836</td>\n",
       "      <td>-0.977946</td>\n",
       "      <td>-0.354108</td>\n",
       "    </tr>\n",
       "    <tr>\n",
       "      <th>3</th>\n",
       "      <td>-1.184818</td>\n",
       "      <td>-1.147980</td>\n",
       "      <td>-0.942902</td>\n",
       "      <td>-0.086513</td>\n",
       "      <td>-0.771313</td>\n",
       "      <td>-1.595354</td>\n",
       "      <td>-0.770154</td>\n",
       "      <td>-1.787947</td>\n",
       "      <td>-1.422411</td>\n",
       "      <td>-1.355637</td>\n",
       "      <td>...</td>\n",
       "      <td>-0.668461</td>\n",
       "      <td>-0.921788</td>\n",
       "      <td>-1.186820</td>\n",
       "      <td>-1.238500</td>\n",
       "      <td>-0.857817</td>\n",
       "      <td>0.196803</td>\n",
       "      <td>0.096748</td>\n",
       "      <td>-0.508416</td>\n",
       "      <td>-0.991186</td>\n",
       "      <td>-0.427877</td>\n",
       "    </tr>\n",
       "    <tr>\n",
       "      <th>4</th>\n",
       "      <td>-1.184818</td>\n",
       "      <td>-1.142674</td>\n",
       "      <td>-0.944148</td>\n",
       "      <td>-0.007800</td>\n",
       "      <td>-0.771311</td>\n",
       "      <td>-1.574755</td>\n",
       "      <td>-0.770154</td>\n",
       "      <td>-1.771399</td>\n",
       "      <td>-1.415598</td>\n",
       "      <td>-1.360373</td>\n",
       "      <td>...</td>\n",
       "      <td>-0.658350</td>\n",
       "      <td>-0.852352</td>\n",
       "      <td>-1.180039</td>\n",
       "      <td>-1.207652</td>\n",
       "      <td>-0.842760</td>\n",
       "      <td>0.224882</td>\n",
       "      <td>0.222213</td>\n",
       "      <td>-0.503375</td>\n",
       "      <td>-0.969806</td>\n",
       "      <td>-0.020001</td>\n",
       "    </tr>\n",
       "  </tbody>\n",
       "</table>\n",
       "<p>5 rows × 21 columns</p>\n",
       "</div>"
      ],
      "text/plain": [
       "   googl_srchs  tot_blkchn_size  avg_blk_size  tot_output_vol  hash_rate_btc  \\\n",
       "0    -1.253728        -1.161775     -1.123040       -0.152435      -0.771314   \n",
       "1    -1.253728        -1.157365     -0.934056       -0.197332      -0.771316   \n",
       "2    -1.253728        -1.152722     -1.004387       -0.110223      -0.771314   \n",
       "3    -1.184818        -1.147980     -0.942902       -0.086513      -0.771313   \n",
       "4    -1.184818        -1.142674     -0.944148       -0.007800      -0.771311   \n",
       "\n",
       "   miners_rev  difficulty  tot_BTCs  btc_mkt_cap  tot_btc_addrs  \\\n",
       "0   -1.619669   -0.770154 -1.830274    -1.435246      -1.377759   \n",
       "1   -1.624800   -0.770152 -1.816243    -1.433217      -1.423840   \n",
       "2   -1.614470   -0.770152 -1.802625    -1.426282      -1.422791   \n",
       "3   -1.595354   -0.770154 -1.787947    -1.422411      -1.355637   \n",
       "4   -1.574755   -0.770154 -1.771399    -1.415598      -1.360373   \n",
       "\n",
       "         ...          btc_exch_trade_vol  btc_num_trans  btc_tot_trans  \\\n",
       "0        ...                   -0.689841      -1.076046      -1.204892   \n",
       "1        ...                   -0.685996      -1.036489      -1.199061   \n",
       "2        ...                   -0.658187      -1.069357      -1.192978   \n",
       "3        ...                   -0.668461      -0.921788      -1.186820   \n",
       "4        ...                   -0.658350      -0.852352      -1.180039   \n",
       "\n",
       "   trans_less_pop_addrs  trans_per_blk  avg_trans_conf_time  \\\n",
       "0             -1.204054      -0.805119             0.077467   \n",
       "1             -1.292255      -0.791944             1.277844   \n",
       "2             -1.243804      -0.874755             0.484612   \n",
       "3             -1.238500      -0.857817             0.196803   \n",
       "4             -1.207652      -0.842760             0.224882   \n",
       "\n",
       "   tot_trans_fees_btc  tot_trans_fees_usd  cost_per_trans  cost_as_perct_vol  \n",
       "0           -0.113350           -0.516013       -0.986018           0.080503  \n",
       "1           -0.095358           -0.515142       -0.994723          -0.175244  \n",
       "2           -0.224963           -0.514836       -0.977946          -0.354108  \n",
       "3            0.096748           -0.508416       -0.991186          -0.427877  \n",
       "4            0.222213           -0.503375       -0.969806          -0.020001  \n",
       "\n",
       "[5 rows x 21 columns]"
      ]
     },
     "execution_count": 11,
     "metadata": {},
     "output_type": "execute_result"
    }
   ],
   "source": [
    "Xn = X.apply(lambda x: (x - np.mean(x)) / np.std(x))\n",
    "Xn.head()"
   ]
  },
  {
   "cell_type": "code",
   "execution_count": 18,
   "metadata": {
    "collapsed": false
   },
   "outputs": [
    {
     "data": {
      "text/plain": [
       "0   -1.529451\n",
       "1   -1.527006\n",
       "2   -1.521155\n",
       "3   -1.513332\n",
       "4   -1.503095\n",
       "Name: btc_usd_rate, dtype: float64"
      ]
     },
     "execution_count": 18,
     "metadata": {},
     "output_type": "execute_result"
    }
   ],
   "source": [
    "yn = (y - np.mean(y)) / np.std(y)\n",
    "yn.head()"
   ]
  },
  {
   "cell_type": "code",
   "execution_count": 19,
   "metadata": {
    "collapsed": true
   },
   "outputs": [],
   "source": [
    "# Split data into train and test sets\n",
    "train_size = int(len(Xn) * 0.66)\n",
    "\n",
    "y_train, y_test = yn[1:train_size], yn[train_size:]\n",
    "X_train, X_test = Xn[1:train_size], Xn[train_size:]"
   ]
  },
  {
   "cell_type": "code",
   "execution_count": 22,
   "metadata": {
    "collapsed": false
   },
   "outputs": [],
   "source": [
    "# Fit estimators\n",
    "ESTIMATORS = {'LinReg' : LinearRegression(),\n",
    "              'Ridge'  : Ridge(),\n",
    "              'Lasso'  : Lasso(),\n",
    "              'LassoCV': LassoCV()}\n",
    "\n",
    "predictions    = dict()\n",
    "r2_scores      = dict()\n",
    "\n",
    "for name, estimator in ESTIMATORS.items():\n",
    "    estimator.fit(X_train, y_train)\n",
    "    predictions[name]    = estimator.predict(X_test)\n",
    "    r2_scores[name]      = estimator.score(X_test, y_test)"
   ]
  },
  {
   "cell_type": "code",
   "execution_count": 23,
   "metadata": {
    "collapsed": false
   },
   "outputs": [
    {
     "data": {
      "text/plain": [
       "{'Lasso': -1.5616525561313694,\n",
       " 'LassoCV': 0.94411123019853005,\n",
       " 'LinReg': 0.77664150932440945,\n",
       " 'Ridge': 0.60646852699639386}"
      ]
     },
     "execution_count": 23,
     "metadata": {},
     "output_type": "execute_result"
    }
   ],
   "source": [
    "r2_scores"
   ]
  },
  {
   "cell_type": "markdown",
   "metadata": {},
   "source": [
    "#### 2. Log"
   ]
  },
  {
   "cell_type": "code",
   "execution_count": 13,
   "metadata": {
    "collapsed": false
   },
   "outputs": [
    {
     "data": {
      "text/html": [
       "<div>\n",
       "<table border=\"1\" class=\"dataframe\">\n",
       "  <thead>\n",
       "    <tr style=\"text-align: right;\">\n",
       "      <th></th>\n",
       "      <th>googl_srchs</th>\n",
       "      <th>tot_blkchn_size</th>\n",
       "      <th>avg_blk_size</th>\n",
       "      <th>tot_output_vol</th>\n",
       "      <th>hash_rate_btc</th>\n",
       "      <th>miners_rev</th>\n",
       "      <th>difficulty</th>\n",
       "      <th>tot_BTCs</th>\n",
       "      <th>btc_mkt_cap</th>\n",
       "      <th>tot_btc_addrs</th>\n",
       "      <th>...</th>\n",
       "      <th>btc_exch_trade_vol</th>\n",
       "      <th>btc_num_trans</th>\n",
       "      <th>btc_tot_trans</th>\n",
       "      <th>trans_less_pop_addrs</th>\n",
       "      <th>trans_per_blk</th>\n",
       "      <th>avg_trans_conf_time</th>\n",
       "      <th>tot_trans_fees_btc</th>\n",
       "      <th>tot_trans_fees_usd</th>\n",
       "      <th>cost_per_trans</th>\n",
       "      <th>cost_as_perct_vol</th>\n",
       "    </tr>\n",
       "  </thead>\n",
       "  <tbody>\n",
       "    <tr>\n",
       "      <th>0</th>\n",
       "      <td>1.386294</td>\n",
       "      <td>8.323366</td>\n",
       "      <td>-2.301479</td>\n",
       "      <td>13.867695</td>\n",
       "      <td>3.046085</td>\n",
       "      <td>10.789980</td>\n",
       "      <td>14.907312</td>\n",
       "      <td>16.179753</td>\n",
       "      <td>18.785424</td>\n",
       "      <td>10.577274</td>\n",
       "      <td>...</td>\n",
       "      <td>12.374717</td>\n",
       "      <td>10.617907</td>\n",
       "      <td>16.198716</td>\n",
       "      <td>9.803170</td>\n",
       "      <td>5.973810</td>\n",
       "      <td>2.136137</td>\n",
       "      <td>3.549693</td>\n",
       "      <td>6.154972</td>\n",
       "      <td>0.332352</td>\n",
       "      <td>0.923996</td>\n",
       "    </tr>\n",
       "    <tr>\n",
       "      <th>1</th>\n",
       "      <td>1.386294</td>\n",
       "      <td>8.355145</td>\n",
       "      <td>-1.882043</td>\n",
       "      <td>13.749844</td>\n",
       "      <td>2.980994</td>\n",
       "      <td>10.695601</td>\n",
       "      <td>14.994027</td>\n",
       "      <td>16.181990</td>\n",
       "      <td>18.842611</td>\n",
       "      <td>10.396170</td>\n",
       "      <td>...</td>\n",
       "      <td>12.681828</td>\n",
       "      <td>10.687366</td>\n",
       "      <td>16.228012</td>\n",
       "      <td>9.347665</td>\n",
       "      <td>5.991465</td>\n",
       "      <td>2.426277</td>\n",
       "      <td>3.568854</td>\n",
       "      <td>6.229114</td>\n",
       "      <td>0.237772</td>\n",
       "      <td>0.773938</td>\n",
       "    </tr>\n",
       "    <tr>\n",
       "      <th>2</th>\n",
       "      <td>1.386294</td>\n",
       "      <td>8.387540</td>\n",
       "      <td>-2.018428</td>\n",
       "      <td>13.967108</td>\n",
       "      <td>3.059775</td>\n",
       "      <td>10.877318</td>\n",
       "      <td>14.994027</td>\n",
       "      <td>16.184157</td>\n",
       "      <td>19.016535</td>\n",
       "      <td>10.400681</td>\n",
       "      <td>...</td>\n",
       "      <td>13.750703</td>\n",
       "      <td>10.629997</td>\n",
       "      <td>16.257689</td>\n",
       "      <td>9.622980</td>\n",
       "      <td>5.874931</td>\n",
       "      <td>2.244250</td>\n",
       "      <td>3.421853</td>\n",
       "      <td>6.253889</td>\n",
       "      <td>0.412707</td>\n",
       "      <td>0.653766</td>\n",
       "    </tr>\n",
       "    <tr>\n",
       "      <th>3</th>\n",
       "      <td>1.609438</td>\n",
       "      <td>8.419580</td>\n",
       "      <td>-1.898209</td>\n",
       "      <td>14.018897</td>\n",
       "      <td>3.110486</td>\n",
       "      <td>11.145420</td>\n",
       "      <td>14.903660</td>\n",
       "      <td>16.186488</td>\n",
       "      <td>19.101898</td>\n",
       "      <td>10.653795</td>\n",
       "      <td>...</td>\n",
       "      <td>13.472856</td>\n",
       "      <td>10.865153</td>\n",
       "      <td>16.286856</td>\n",
       "      <td>9.648982</td>\n",
       "      <td>5.899897</td>\n",
       "      <td>2.169054</td>\n",
       "      <td>3.753367</td>\n",
       "      <td>6.668431</td>\n",
       "      <td>0.277287</td>\n",
       "      <td>0.599665</td>\n",
       "    </tr>\n",
       "    <tr>\n",
       "      <th>4</th>\n",
       "      <td>1.609438</td>\n",
       "      <td>8.454253</td>\n",
       "      <td>-1.900508</td>\n",
       "      <td>14.173808</td>\n",
       "      <td>3.192551</td>\n",
       "      <td>11.371292</td>\n",
       "      <td>14.903660</td>\n",
       "      <td>16.189108</td>\n",
       "      <td>19.236419</td>\n",
       "      <td>10.637897</td>\n",
       "      <td>...</td>\n",
       "      <td>13.746846</td>\n",
       "      <td>10.959192</td>\n",
       "      <td>16.318026</td>\n",
       "      <td>9.788133</td>\n",
       "      <td>5.921578</td>\n",
       "      <td>2.176644</td>\n",
       "      <td>3.857765</td>\n",
       "      <td>6.904665</td>\n",
       "      <td>0.487693</td>\n",
       "      <td>0.867681</td>\n",
       "    </tr>\n",
       "  </tbody>\n",
       "</table>\n",
       "<p>5 rows × 21 columns</p>\n",
       "</div>"
      ],
      "text/plain": [
       "   googl_srchs  tot_blkchn_size  avg_blk_size  tot_output_vol  hash_rate_btc  \\\n",
       "0     1.386294         8.323366     -2.301479       13.867695       3.046085   \n",
       "1     1.386294         8.355145     -1.882043       13.749844       2.980994   \n",
       "2     1.386294         8.387540     -2.018428       13.967108       3.059775   \n",
       "3     1.609438         8.419580     -1.898209       14.018897       3.110486   \n",
       "4     1.609438         8.454253     -1.900508       14.173808       3.192551   \n",
       "\n",
       "   miners_rev  difficulty   tot_BTCs  btc_mkt_cap  tot_btc_addrs  \\\n",
       "0   10.789980   14.907312  16.179753    18.785424      10.577274   \n",
       "1   10.695601   14.994027  16.181990    18.842611      10.396170   \n",
       "2   10.877318   14.994027  16.184157    19.016535      10.400681   \n",
       "3   11.145420   14.903660  16.186488    19.101898      10.653795   \n",
       "4   11.371292   14.903660  16.189108    19.236419      10.637897   \n",
       "\n",
       "         ...          btc_exch_trade_vol  btc_num_trans  btc_tot_trans  \\\n",
       "0        ...                   12.374717      10.617907      16.198716   \n",
       "1        ...                   12.681828      10.687366      16.228012   \n",
       "2        ...                   13.750703      10.629997      16.257689   \n",
       "3        ...                   13.472856      10.865153      16.286856   \n",
       "4        ...                   13.746846      10.959192      16.318026   \n",
       "\n",
       "   trans_less_pop_addrs  trans_per_blk  avg_trans_conf_time  \\\n",
       "0              9.803170       5.973810             2.136137   \n",
       "1              9.347665       5.991465             2.426277   \n",
       "2              9.622980       5.874931             2.244250   \n",
       "3              9.648982       5.899897             2.169054   \n",
       "4              9.788133       5.921578             2.176644   \n",
       "\n",
       "   tot_trans_fees_btc  tot_trans_fees_usd  cost_per_trans  cost_as_perct_vol  \n",
       "0            3.549693            6.154972        0.332352           0.923996  \n",
       "1            3.568854            6.229114        0.237772           0.773938  \n",
       "2            3.421853            6.253889        0.412707           0.653766  \n",
       "3            3.753367            6.668431        0.277287           0.599665  \n",
       "4            3.857765            6.904665        0.487693           0.867681  \n",
       "\n",
       "[5 rows x 21 columns]"
      ]
     },
     "execution_count": 13,
     "metadata": {},
     "output_type": "execute_result"
    }
   ],
   "source": [
    "Xl = X.apply(lambda x: np.log(x))\n",
    "Xl.head()"
   ]
  },
  {
   "cell_type": "code",
   "execution_count": 27,
   "metadata": {
    "collapsed": false
   },
   "outputs": [],
   "source": [
    "yl = np.log(y)"
   ]
  },
  {
   "cell_type": "code",
   "execution_count": 28,
   "metadata": {
    "collapsed": false
   },
   "outputs": [],
   "source": [
    "# Split data into train and test sets\n",
    "train_size = int(len(Xn) * 0.66)\n",
    "\n",
    "y_train, y_test = yl[1:train_size], yl[train_size:]\n",
    "X_train, X_test = Xl[1:train_size], Xl[train_size:]"
   ]
  },
  {
   "cell_type": "code",
   "execution_count": 29,
   "metadata": {
    "collapsed": true
   },
   "outputs": [],
   "source": [
    "# Fit estimators\n",
    "ESTIMATORS = {'LinReg' : LinearRegression(),\n",
    "              'Ridge'  : Ridge(),\n",
    "              'Lasso'  : Lasso(),\n",
    "              'LassoCV': LassoCV()}\n",
    "\n",
    "predictions    = dict()\n",
    "r2_scores      = dict()\n",
    "\n",
    "for name, estimator in ESTIMATORS.items():\n",
    "    estimator.fit(X_train, y_train)\n",
    "    predictions[name]    = estimator.predict(X_test)\n",
    "    r2_scores[name]      = estimator.score(X_test, y_test)"
   ]
  },
  {
   "cell_type": "code",
   "execution_count": 30,
   "metadata": {
    "collapsed": false
   },
   "outputs": [
    {
     "data": {
      "text/plain": [
       "{'Lasso': -1.327126102139276,\n",
       " 'LassoCV': 0.97358505316993027,\n",
       " 'LinReg': -0.50129048722342118,\n",
       " 'Ridge': 0.61902525472334857}"
      ]
     },
     "execution_count": 30,
     "metadata": {},
     "output_type": "execute_result"
    }
   ],
   "source": [
    "r2_scores\n",
    "\n"
   ]
  },
  {
   "cell_type": "code",
   "execution_count": 1,
   "metadata": {
    "collapsed": true
   },
   "outputs": [],
   "source": [
    "import datetime\n",
    "from sklearn.ensemble import ExtraTreesRegressor\n",
    "from sklearn.neighbors import KNeighborsRegressor\n",
    "from sklearn.linear_model import LinearRegression\n",
    "from sklearn.linear_model import Ridge, RidgeCV, Lasso, LassoCV\n",
    "%matplotlib inline\n",
    "import numpy as np, pandas as pd \n",
    "import matplotlib.pyplot as plt\n",
    "import seaborn as sns\n",
    "import sqlalchemy\n",
    "from sqlalchemy import create_engine, MetaData, Table\n",
    "from sqlalchemy.sql import select\n",
    "from fbprophet import Prophet\n"
   ]
  },
  {
   "cell_type": "code",
   "execution_count": null,
   "metadata": {
    "collapsed": true
   },
   "outputs": [],
   "source": []
  },
  {
   "cell_type": "code",
   "execution_count": 54,
   "metadata": {
    "collapsed": true
   },
   "outputs": [],
   "source": [
    "def get_regr_models():\n",
    "    '''\n",
    "    Train and return OLSR, Ridge, Lasso, LassoCV\n",
    "    '''\n",
    "    db_uri = '<user_pass>@<EC2 DNS>'                                 \n",
    "\n",
    "    engine = create_engine(db_uri)                                                                                                                    \n",
    "    meta = MetaData()                                                           \n",
    "    meta.reflect(bind=engine)                                                   \n",
    "    conn = engine.connect()\n",
    "    \n",
    "    bpi  = pd.read_sql('''SELECT * FROM coindsk_bpi''', conn)     # Bitcoin Price Index\n",
    "    mng  = pd.read_sql('''SELECT * FROM qdl_mining_data''', conn) # Quandl Mining Data\n",
    "    qmkt = pd.read_sql('''SELECT * FROM qdl_mkt_data''', conn)    # Quandl Market Data\n",
    "    \n",
    "    bpi.date            = pd.to_datetime(bpi.date)\n",
    "    bpi.btc_usd_rate    = pd.to_numeric(bpi.btc_usd_rate)\n",
    "    mng.tot_blkchn_size = pd.to_numeric(mng.tot_blkchn_size)\n",
    "    mng.avg_blk_size    = pd.to_numeric(mng.avg_blk_size)\n",
    "    mng.tot_output_vol  = pd.to_numeric(mng.tot_output_vol)\n",
    "    mng.hash_rate_btc   = pd.to_numeric(mng.hash_rate_btc)\n",
    "    mng.miners_rev      = pd.to_numeric(mng.miners_rev)\n",
    "    mng.difficulty      = pd.to_numeric(mng.difficulty)\n",
    "    mng.date            = pd.to_datetime(mng.date)\n",
    "    qmkt.date                 = pd.to_datetime(qmkt.date)\n",
    "    qmkt.tot_BTCs             = pd.to_numeric(qmkt.tot_BTCs)\n",
    "    qmkt.btc_mkt_cap          = pd.to_numeric(qmkt.btc_mkt_cap)\n",
    "    qmkt.tot_btc_addrs        = pd.to_numeric(qmkt.tot_btc_addrs)\n",
    "    qmkt.btc_trans_vol        = pd.to_numeric(qmkt.btc_trans_vol)\n",
    "    qmkt.btc_exch_trade_vol   = pd.to_numeric(qmkt.btc_exch_trade_vol)\n",
    "    qmkt.btc_num_trans        = pd.to_numeric(qmkt.btc_num_trans)\n",
    "    qmkt.btc_tot_trans        = pd.to_numeric(qmkt.btc_tot_trans)\n",
    "    qmkt.trans_less_pop_addrs = pd.to_numeric(qmkt.trans_less_pop_addrs)\n",
    "    qmkt.trans_per_blk        = pd.to_numeric(qmkt.trans_per_blk)\n",
    "    qmkt.avg_trans_conf_time  = pd.to_numeric(qmkt.avg_trans_conf_time)\n",
    "    qmkt.tot_trans_fees_btc   = pd.to_numeric(qmkt.tot_trans_fees_btc)\n",
    "    qmkt.tot_trans_fees_usd   = pd.to_numeric(qmkt.tot_trans_fees_usd)\n",
    "    qmkt.cost_per_trans       = pd.to_numeric(qmkt.cost_per_trans)\n",
    "    qmkt.cost_as_perct_vol    = pd.to_numeric(qmkt.cost_as_perct_vol)\n",
    "\n",
    "    dfs = [bpi, mng, qmkt]\n",
    "    df = reduce(lambda df1, df2: pd.merge(df1, df2, on='date'), dfs)\n",
    "    \n",
    "    # Extract predictor variables from yesterday\n",
    "    # NOTE: This may need to be adjusted ('days=1' if running in AM, 'days=2' if PM)\n",
    "    yester_data = df[df.date == (datetime.date.today() - datetime.timedelta(days=2))]\n",
    "    yester_data = yester_data[[col for col in list(yester_data.columns) if not col == 'date'\\\n",
    "                                                                        and not col == 'timestp'\\\n",
    "                                                                        and not col == 'residuals'\\\n",
    "                                                                        and not col == 'btc_usd_rate']]\n",
    "    \n",
    "    # Create DataFrame on which to train the model\n",
    "    df = df[df.date < (datetime.date.today() - datetime.timedelta(days=1))]\n",
    "    \n",
    "    # Create target and predictors\n",
    "    y = df.btc_usd_rate\n",
    "    X = df[[col for col in list(df.columns) if not col == 'residuals'\\\n",
    "                                            and not col == 'btc_usd_rate'\\\n",
    "                                            and not col == 'date'\\\n",
    "                                            and not col == 'timestp']]\n",
    "        \n",
    "    # Split data into train and test sets\n",
    "    train_size = int(len(X) * 0.66)\n",
    "    y_train, y_test = y[1:train_size], y[train_size:]\n",
    "    X_train, X_test = X[1:train_size], X[train_size:]\n",
    "    \n",
    "    # Fit estimators\n",
    "    olsr = LinearRegression()\n",
    "    rdge = Ridge()\n",
    "    lsso = Lasso()\n",
    "    lscv = LassoCV()\n",
    "    \n",
    "    olsr.fit(X_train, y_train)\n",
    "    rdge.fit(X_train, y_train)\n",
    "    lsso.fit(X_train, y_train)\n",
    "    lscv.fit(X_train, y_train)\n",
    "    \n",
    "    predictions = dict()\n",
    "    r2_scores   = dict()\n",
    "    \n",
    "    predictions['OLSR'] = olsr.predict(X_test)\n",
    "    predictions['RDGE'] = rdge.predict(X_test)\n",
    "    predictions['LSSO'] = lsso.predict(X_test)\n",
    "    predictions['LSCV'] = lscv.predict(X_test)\n",
    "    \n",
    "    r2_scores['OLSR'] = olsr.score(X_test, y_test)\n",
    "    r2_scores['RDGE'] = rdge.score(X_test, y_test)\n",
    "    r2_scores['LSSO'] = lsso.score(X_test, y_test)\n",
    "    r2_scores['LSCV'] = lscv.score(X_test, y_test)\n",
    "    \n",
    "    return olsr, rdge, lsso, lscv, yester_data, training_predictions, r2_scores "
   ]
  },
  {
   "cell_type": "code",
   "execution_count": 55,
   "metadata": {
    "collapsed": false
   },
   "outputs": [],
   "source": [
    "olsr, rdge, lsso, lscv, yester_data, predictions, r2_scores = get_regr_models()\n"
   ]
  },
  {
   "cell_type": "code",
   "execution_count": 56,
   "metadata": {
    "collapsed": false
   },
   "outputs": [
    {
     "data": {
      "text/plain": [
       "LinearRegression(copy_X=True, fit_intercept=True, n_jobs=1, normalize=False)"
      ]
     },
     "execution_count": 56,
     "metadata": {},
     "output_type": "execute_result"
    }
   ],
   "source": [
    "olsr"
   ]
  },
  {
   "cell_type": "code",
   "execution_count": 57,
   "metadata": {
    "collapsed": false
   },
   "outputs": [
    {
     "data": {
      "text/plain": [
       "Ridge(alpha=1.0, copy_X=True, fit_intercept=True, max_iter=None,\n",
       "   normalize=False, random_state=None, solver='auto', tol=0.001)"
      ]
     },
     "execution_count": 57,
     "metadata": {},
     "output_type": "execute_result"
    }
   ],
   "source": [
    "rdge"
   ]
  },
  {
   "cell_type": "code",
   "execution_count": 58,
   "metadata": {
    "collapsed": false
   },
   "outputs": [
    {
     "data": {
      "text/plain": [
       "Lasso(alpha=1.0, copy_X=True, fit_intercept=True, max_iter=1000,\n",
       "   normalize=False, positive=False, precompute=False, random_state=None,\n",
       "   selection='cyclic', tol=0.0001, warm_start=False)"
      ]
     },
     "execution_count": 58,
     "metadata": {},
     "output_type": "execute_result"
    }
   ],
   "source": [
    "lsso"
   ]
  },
  {
   "cell_type": "code",
   "execution_count": 59,
   "metadata": {
    "collapsed": false
   },
   "outputs": [
    {
     "data": {
      "text/plain": [
       "LassoCV(alphas=None, copy_X=True, cv=None, eps=0.001, fit_intercept=True,\n",
       "    max_iter=1000, n_alphas=100, n_jobs=1, normalize=False, positive=False,\n",
       "    precompute='auto', random_state=None, selection='cyclic', tol=0.0001,\n",
       "    verbose=False)"
      ]
     },
     "execution_count": 59,
     "metadata": {},
     "output_type": "execute_result"
    }
   ],
   "source": [
    "lscv"
   ]
  },
  {
   "cell_type": "code",
   "execution_count": 60,
   "metadata": {
    "collapsed": false
   },
   "outputs": [
    {
     "data": {
      "text/html": [
       "<div>\n",
       "<table border=\"1\" class=\"dataframe\">\n",
       "  <thead>\n",
       "    <tr style=\"text-align: right;\">\n",
       "      <th></th>\n",
       "      <th>tot_blkchn_size</th>\n",
       "      <th>avg_blk_size</th>\n",
       "      <th>tot_output_vol</th>\n",
       "      <th>hash_rate_btc</th>\n",
       "      <th>miners_rev</th>\n",
       "      <th>difficulty</th>\n",
       "      <th>tot_BTCs</th>\n",
       "      <th>btc_mkt_cap</th>\n",
       "      <th>tot_btc_addrs</th>\n",
       "      <th>btc_trans_vol</th>\n",
       "      <th>btc_exch_trade_vol</th>\n",
       "      <th>btc_num_trans</th>\n",
       "      <th>btc_tot_trans</th>\n",
       "      <th>trans_less_pop_addrs</th>\n",
       "      <th>trans_per_blk</th>\n",
       "      <th>avg_trans_conf_time</th>\n",
       "      <th>tot_trans_fees_btc</th>\n",
       "      <th>tot_trans_fees_usd</th>\n",
       "      <th>cost_per_trans</th>\n",
       "      <th>cost_as_perct_vol</th>\n",
       "    </tr>\n",
       "  </thead>\n",
       "  <tbody>\n",
       "    <tr>\n",
       "      <th>1560</th>\n",
       "      <td>111096.468465</td>\n",
       "      <td>0.991744</td>\n",
       "      <td>1.615445e+06</td>\n",
       "      <td>3.909321e+06</td>\n",
       "      <td>2416965.0</td>\n",
       "      <td>5.208087e+11</td>\n",
       "      <td>16275762.5</td>\n",
       "      <td>1.949836e+10</td>\n",
       "      <td>520821</td>\n",
       "      <td>231541.159316</td>\n",
       "      <td>2.154701e+07</td>\n",
       "      <td>271976</td>\n",
       "      <td>213740161</td>\n",
       "      <td>267026</td>\n",
       "      <td>1801.165563</td>\n",
       "      <td>16.1</td>\n",
       "      <td>202.572395</td>\n",
       "      <td>242681.729605</td>\n",
       "      <td>9.206352</td>\n",
       "      <td>0.902679</td>\n",
       "    </tr>\n",
       "  </tbody>\n",
       "</table>\n",
       "</div>"
      ],
      "text/plain": [
       "      tot_blkchn_size  avg_blk_size  tot_output_vol  hash_rate_btc  \\\n",
       "1560    111096.468465      0.991744    1.615445e+06   3.909321e+06   \n",
       "\n",
       "      miners_rev    difficulty    tot_BTCs   btc_mkt_cap  tot_btc_addrs  \\\n",
       "1560   2416965.0  5.208087e+11  16275762.5  1.949836e+10         520821   \n",
       "\n",
       "      btc_trans_vol  btc_exch_trade_vol  btc_num_trans  btc_tot_trans  \\\n",
       "1560  231541.159316        2.154701e+07         271976      213740161   \n",
       "\n",
       "      trans_less_pop_addrs  trans_per_blk  avg_trans_conf_time  \\\n",
       "1560                267026    1801.165563                 16.1   \n",
       "\n",
       "      tot_trans_fees_btc  tot_trans_fees_usd  cost_per_trans  \\\n",
       "1560          202.572395       242681.729605        9.206352   \n",
       "\n",
       "      cost_as_perct_vol  \n",
       "1560           0.902679  "
      ]
     },
     "execution_count": 60,
     "metadata": {},
     "output_type": "execute_result"
    }
   ],
   "source": [
    "yester_data.head()"
   ]
  },
  {
   "cell_type": "code",
   "execution_count": 65,
   "metadata": {
    "collapsed": false
   },
   "outputs": [
    {
     "data": {
      "text/plain": [
       "1405.5689234830036"
      ]
     },
     "execution_count": 65,
     "metadata": {},
     "output_type": "execute_result"
    }
   ],
   "source": [
    "float(olsr.predict(yester_data))"
   ]
  },
  {
   "cell_type": "code",
   "execution_count": 62,
   "metadata": {
    "collapsed": false
   },
   "outputs": [
    {
     "data": {
      "text/plain": [
       "array([ 1416.5076169])"
      ]
     },
     "execution_count": 62,
     "metadata": {},
     "output_type": "execute_result"
    }
   ],
   "source": [
    "rdge.predict(yester_data)"
   ]
  },
  {
   "cell_type": "code",
   "execution_count": 63,
   "metadata": {
    "collapsed": false
   },
   "outputs": [
    {
     "data": {
      "text/plain": [
       "array([ 1384.25885155])"
      ]
     },
     "execution_count": 63,
     "metadata": {},
     "output_type": "execute_result"
    }
   ],
   "source": [
    "lsso.predict(yester_data)"
   ]
  },
  {
   "cell_type": "code",
   "execution_count": 64,
   "metadata": {
    "collapsed": false
   },
   "outputs": [
    {
     "data": {
      "text/plain": [
       "array([ 1109.16178503])"
      ]
     },
     "execution_count": 64,
     "metadata": {},
     "output_type": "execute_result"
    }
   ],
   "source": [
    "lscv.predict(yester_data)"
   ]
  },
  {
   "cell_type": "code",
   "execution_count": null,
   "metadata": {
    "collapsed": true
   },
   "outputs": [],
   "source": []
  },
  {
   "cell_type": "code",
   "execution_count": null,
   "metadata": {
    "collapsed": true
   },
   "outputs": [],
   "source": []
  },
  {
   "cell_type": "code",
   "execution_count": null,
   "metadata": {
    "collapsed": true
   },
   "outputs": [],
   "source": []
  }
 ],
 "metadata": {
  "anaconda-cloud": {},
  "kernelspec": {
   "display_name": "Python 2",
   "language": "python",
   "name": "python2"
  },
  "language_info": {
   "codemirror_mode": {
    "name": "ipython",
    "version": 2
   },
   "file_extension": ".py",
   "mimetype": "text/x-python",
   "name": "python",
   "nbconvert_exporter": "python",
   "pygments_lexer": "ipython2",
   "version": "2.7.13"
  }
 },
 "nbformat": 4,
 "nbformat_minor": 1
}
